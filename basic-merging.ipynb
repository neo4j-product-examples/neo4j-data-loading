{
 "cells": [
  {
   "metadata": {},
   "cell_type": "markdown",
   "source": [
    "# Neo4j Data Loading w/ Drivers\n",
    "\n",
    "Quick example of best practice principles for loading data into Neo4j with Drivers.\n",
    "\n",
    "We will be using csv tables from the `data/` folder to create a graph with the follwing schema\n",
    "\n",
    "![data model](img/data-model.png)"
   ],
   "id": "7b6180e8a0084409"
  },
  {
   "metadata": {
    "ExecuteTime": {
     "end_time": "2025-04-19T18:45:31.194465Z",
     "start_time": "2025-04-19T18:45:30.420773Z"
    }
   },
   "cell_type": "code",
   "source": [
    "%%capture\n",
    "%pip install pandas neo4j python-dotenv tqdm"
   ],
   "id": "90e9f2407cf3b8e0",
   "outputs": [],
   "execution_count": 1
  },
  {
   "metadata": {},
   "cell_type": "markdown",
   "source": [
    "## Naive First Try (This Will Be Super Slow )\n",
    "As a first try we will attempt a naive approach of merging node and relationship records row by row."
   ],
   "id": "929529f6dd20fef9"
  },
  {
   "metadata": {
    "ExecuteTime": {
     "end_time": "2025-04-19T18:45:31.205999Z",
     "start_time": "2025-04-19T18:45:31.198499Z"
    }
   },
   "cell_type": "code",
   "source": [
    "from dotenv import load_dotenv\n",
    "import os\n",
    "\n",
    "env_file = '.env'\n",
    "if os.path.exists(env_file):\n",
    "    load_dotenv(env_file, override=True)\n",
    "\n",
    "    HOST = os.getenv('NEO4J_URI')\n",
    "    USERNAME = os.getenv('NEO4J_USERNAME')\n",
    "    PASSWORD = os.getenv('NEO4J_PASSWORD')\n",
    "\n",
    "else:\n",
    "    print(f\"File {env_file} not found.\")"
   ],
   "id": "1fcd6ef73c84849b",
   "outputs": [],
   "execution_count": 2
  },
  {
   "metadata": {
    "ExecuteTime": {
     "end_time": "2025-04-19T18:45:31.805297Z",
     "start_time": "2025-04-19T18:45:31.305917Z"
    }
   },
   "cell_type": "code",
   "source": [
    "from neo4j import Query, GraphDatabase, RoutingControl, Result\n",
    "\n",
    "driver = GraphDatabase.driver(HOST, auth=(USERNAME, PASSWORD))"
   ],
   "id": "9362997e734176d1",
   "outputs": [],
   "execution_count": 3
  },
  {
   "metadata": {},
   "cell_type": "markdown",
   "source": "read article records",
   "id": "b48ab3734aa62f04"
  },
  {
   "metadata": {
    "ExecuteTime": {
     "end_time": "2025-04-19T18:45:31.842431Z",
     "start_time": "2025-04-19T18:45:31.819679Z"
    }
   },
   "cell_type": "code",
   "source": [
    "import csv\n",
    "\n",
    "articles = []\n",
    "with open('data/article.csv', mode=\"r\", encoding=\"utf-8\") as file:\n",
    "    reader = csv.DictReader(file)\n",
    "    for row in reader:\n",
    "        articles.append(row)\n",
    "articles[:3]"
   ],
   "id": "4442a84b21d4162d",
   "outputs": [
    {
     "data": {
      "text/plain": [
       "[{'articleId': '108775015',\n",
       "  'productCode': '108775',\n",
       "  'departmentNo': '1676',\n",
       "  'prodName': 'Strap top',\n",
       "  'productTypeName': 'Vest top',\n",
       "  'graphicalAppearanceNo': '1010016',\n",
       "  'graphicalAppearanceName': 'Solid',\n",
       "  'colourGroupCode': '9',\n",
       "  'colourGroupName': 'Black'},\n",
       " {'articleId': '108775044',\n",
       "  'productCode': '108775',\n",
       "  'departmentNo': '1676',\n",
       "  'prodName': 'Strap top',\n",
       "  'productTypeName': 'Vest top',\n",
       "  'graphicalAppearanceNo': '1010016',\n",
       "  'graphicalAppearanceName': 'Solid',\n",
       "  'colourGroupCode': '10',\n",
       "  'colourGroupName': 'White'},\n",
       " {'articleId': '110065001',\n",
       "  'productCode': '110065',\n",
       "  'departmentNo': '1339',\n",
       "  'prodName': 'OP T-shirt (Idro)',\n",
       "  'productTypeName': 'Bra',\n",
       "  'graphicalAppearanceNo': '1010016',\n",
       "  'graphicalAppearanceName': 'Solid',\n",
       "  'colourGroupCode': '9',\n",
       "  'colourGroupName': 'Black'}]"
      ]
     },
     "execution_count": 4,
     "metadata": {},
     "output_type": "execute_result"
    }
   ],
   "execution_count": 4
  },
  {
   "metadata": {},
   "cell_type": "markdown",
   "source": "Attempt to Create Article Nodes",
   "id": "4552d5526a0c08c7"
  },
  {
   "metadata": {
    "ExecuteTime": {
     "end_time": "2025-04-19T19:02:58.766595Z",
     "start_time": "2025-04-19T18:45:31.852570Z"
    }
   },
   "cell_type": "code",
   "source": [
    "from tqdm import tqdm\n",
    "\n",
    "query = \"\"\"\n",
    "   CREATE (a:Article {articleId: $articleId})\n",
    "   SET a.graphicalAppearanceNo = $graphicalAppearanceNo,\n",
    "       a.graphicalAppearanceName = $graphicalAppearanceName,\n",
    "       a.colourGroupCode = $colourGroupCode,\n",
    "       a.colourGroupName = $colourGroupName\n",
    "\"\"\"\n",
    "\n",
    "with driver.session() as session:\n",
    "    for row in tqdm(articles):\n",
    "        session.run(query,\n",
    "                articleId=row[\"articleId\"],\n",
    "                graphicalAppearanceNo=row[\"graphicalAppearanceNo\"],\n",
    "                graphicalAppearanceName=row[\"graphicalAppearanceName\"],\n",
    "                colourGroupCode=row[\"colourGroupCode\"],\n",
    "                colourGroupName=row[\"colourGroupName\"]\n",
    "            )\n",
    "print(f\"Loaded {len(articles)} articles into Neo4j\")\n"
   ],
   "id": "6b54114520a77dd7",
   "outputs": [
    {
     "name": "stderr",
     "output_type": "stream",
     "text": [
      "100%|██████████| 13351/13351 [17:26<00:00, 12.75it/s]"
     ]
    },
    {
     "name": "stdout",
     "output_type": "stream",
     "text": [
      "Loaded 13351 articles into Neo4j\n"
     ]
    },
    {
     "name": "stderr",
     "output_type": "stream",
     "text": [
      "\n"
     ]
    }
   ],
   "execution_count": 5
  },
  {
   "metadata": {},
   "cell_type": "markdown",
   "source": "Attempt to Create VARIANT_OF Relationships",
   "id": "775cb4b0521d52"
  },
  {
   "metadata": {
    "ExecuteTime": {
     "end_time": "2025-04-19T19:20:18.537386Z",
     "start_time": "2025-04-19T19:02:58.793931Z"
    }
   },
   "cell_type": "code",
   "source": [
    "#Similarly for writing relationships\n",
    "from tqdm import tqdm\n",
    "\n",
    "query = \"\"\"\n",
    "   MERGE (a:Article {articleId: $articleId}) //merge will create if doesn't exist\n",
    "   MERGE (p:Product {productCode: $productCode})\n",
    "   CREATE (a)-[r:VARIANT_OF]->(p)\n",
    "\"\"\"\n",
    "\n",
    "with driver.session() as session:\n",
    "    for row in tqdm(articles):\n",
    "        session.run(query,\n",
    "                articleId=row[\"articleId\"],\n",
    "                productCode=row[\"productCode\"],\n",
    "            )\n",
    "print(f\"Loaded {len(articles)} VARIANT_OF relationships into Neo4j\")"
   ],
   "id": "e83dceb77833ead8",
   "outputs": [
    {
     "name": "stderr",
     "output_type": "stream",
     "text": [
      "100%|██████████| 13351/13351 [17:19<00:00, 12.84it/s]"
     ]
    },
    {
     "name": "stdout",
     "output_type": "stream",
     "text": [
      "Loaded 13351 VARIANT_OF relationships into Neo4j\n"
     ]
    },
    {
     "name": "stderr",
     "output_type": "stream",
     "text": [
      "\n"
     ]
    }
   ],
   "execution_count": 6
  },
  {
   "metadata": {},
   "cell_type": "markdown",
   "source": [
    "The above takes forever for two reasons, common pitfalls:\n",
    "1. Records are not batched into transactions - sending only one record at a time with a transaction for each\n",
    "2. There are no Node constraints or indexes meaning which will make MERGE and MATCH statements very inefficient\n",
    "\n",
    "Below we show how to easily optimize this so you can load all the records in `/data` in a matter of seconds"
   ],
   "id": "6ae7b6c3341a45d"
  },
  {
   "metadata": {},
   "cell_type": "markdown",
   "source": [
    "### Cleanup\n",
    "Lets remove the data we just loaded and try again with an optimized ingest"
   ],
   "id": "4fde31e0010227cc"
  },
  {
   "metadata": {
    "ExecuteTime": {
     "end_time": "2025-04-19T19:20:19.838655Z",
     "start_time": "2025-04-19T19:20:18.574207Z"
    }
   },
   "cell_type": "code",
   "source": [
    "# remove all data\n",
    "delete_chunk_size = 500\n",
    "with driver.session() as session:\n",
    "    # Delete all nodes and relationships\n",
    "    session.run(f'''\n",
    "    MATCH (n)\n",
    "    CALL (n){{\n",
    "      DETACH DELETE n\n",
    "    }} IN TRANSACTIONS OF {delete_chunk_size} ROWS;\n",
    "    ''')\n",
    "\n",
    "driver.execute_query(\"CALL apoc.schema.assert({},{},true) YIELD label, key RETURN *\")"
   ],
   "id": "7e71c6a6b5423d6d",
   "outputs": [
    {
     "data": {
      "text/plain": [
       "EagerResult(records=[], summary=<neo4j._work.summary.ResultSummary object at 0x11fd21a50>, keys=['key', 'label'])"
      ]
     },
     "execution_count": 7,
     "metadata": {},
     "output_type": "execute_result"
    }
   ],
   "execution_count": 7
  },
  {
   "metadata": {},
   "cell_type": "markdown",
   "source": "## Optimizing Neo4j Ingests",
   "id": "dda27904a62b9470"
  },
  {
   "metadata": {},
   "cell_type": "markdown",
   "source": [
    "### Understanding the types of queries we will run\n",
    "\n",
    "We will use `MERGE` patterns to load both node and relationship data. This has the benefit of being less error prone and also *idempotent* - meaning that no matter how many times these commands are executed, the resulting data in the graph will remain the same, without creating duplicate nodes, relationships, or altering existing data unnecessarily.\n",
    "\n",
    "Specifically:\n",
    "\n",
    "__for nodes:__\n",
    "\n",
    "```cypher\n",
    "UNWIND $records AS rec\n",
    "MERGE(n:<Label> {<id>: rec.id}\n",
    "SET n += rec.properties\n",
    "```\n",
    "\n",
    "__for relationships:__\n",
    "\n",
    "```cypher\n",
    "UNWIND $records AS rec\n",
    "MERGE(n1:<StartNodeLabel> {<StartNodeId>: rec.start_node_id})\n",
    "MERGE(n2:<EndNodeLabel> {<EndNodeId>: rec.end_node_id})\n",
    "MERGE(n1)-[<RelRType>]->(n2)\n",
    "SET n += rec.properties\n",
    "```\n",
    "\n",
    "__for parallel relationships:__\n",
    "Where multiple relationships of the same type can exist between the same two start and end nodes:\n",
    "\n",
    "```cypher\n",
    "UNWIND $records AS rec\n",
    "MERGE(n1:<StartNodeLabel> {<StartNodeId>: rec.start_node_id})\n",
    "MERGE(n2:<EndNodeLabel> {<EndNodeId>: rec.end_node_id})\n",
    "MERGE(n1)-[<RelRType> {<relKeyProp>: rec.rel_key}]->(n2)\n",
    "SET n += rec.properties\n",
    "```\n",
    "\n",
    "This ingest makes some assumptions\n",
    "\n",
    "1. __Grouping Nodes and Relationship Records by Type:__ `MERGE(n:<Label> {<id>: rec.id}` and similar merge statements in relationships assume single node labels and relationships at a time. Constructing queries this way enables us to batch effectively (covered below) while also ensure efficient use of the Neo4j query planner so ingestion is fast.\n",
    "2. __Unique Id Keys for Every Node:__ `MERGE(n:<Label> {<id>: rec.id}` and similar merge statements in relationships assume a unique id property for every node.  These will only run efficiently if we first set Node constraints which is shown below\n",
    "3. __Batching:__ `UNWIND $records AS rec` Assumes we are batching records into a records parameter to send to each query.  This is done for efficiency\n",
    "\n",
    "Lets set this up in the below and then run the resulting code\n"
   ],
   "id": "c556084b73696d3a"
  },
  {
   "metadata": {},
   "cell_type": "markdown",
   "source": [
    "### Step 1: Grouping Nodes and Relationships by Type\n",
    "Your going to want to decide on your graph data model prior to loading data, then organize your data into node and relationship groups of records based on node labels and relationship type + start/end node labels respectively.\n",
    "\n",
    "To best fit the query patterns above we will use the following data structures:\n",
    "\n",
    "__for nodes:__\n",
    "Map each node record into the below format\n",
    "\n",
    "```\n",
    "{\n",
    "    \"id\": <node_id_field>,\n",
    "    \"properties\": {\"prop1\":<val1>, \"prop2\":<val2>,...}\n",
    "}\n",
    "```\n",
    "\n",
    "__for relationships (non-parallel):__\n",
    "Map each record into the below format\n",
    "\n",
    "```\n",
    "{\n",
    "    \"start_node_id\": <id value>,\n",
    "    \"end_node_id\": <id value>,\n",
    "    \"properties\": {\"prop1\":<val1>, \"prop2\":<val2>,...}\n",
    "}\n",
    "```\n",
    "\n",
    "__for parallel relationships:__\n",
    "Map each record into the below format\n",
    "\n",
    "```\n",
    "{\n",
    "    \"start_node_id\": <id value>,\n",
    "    \"end_node_id\": <id value>,\n",
    "    \"rel_key\": <value>,\n",
    "    \"properties\": {\"prop1\":<val1>, \"prop2\":<val2>,...}\n",
    "}\n",
    "```\n"
   ],
   "id": "2eec6ce062f30fe7"
  },
  {
   "metadata": {},
   "cell_type": "markdown",
   "source": "Lets create some helper functions for this",
   "id": "9e39fe6ef0d1e2cb"
  },
  {
   "metadata": {
    "ExecuteTime": {
     "end_time": "2025-04-19T19:20:19.854439Z",
     "start_time": "2025-04-19T19:20:19.846018Z"
    }
   },
   "cell_type": "code",
   "source": [
    "from typing import List, Optional\n",
    "\n",
    "\n",
    "def csv_to_node_records(file_path:str, id_column:str, include_properties: Optional[List[str]]=None):\n",
    "    #read the csv\n",
    "    df = pd.read_csv(file_path)\n",
    "    #select relevant columns and drop duplicates\n",
    "    properties = [id_column]\n",
    "    if include_properties:\n",
    "        properties = properties + [col for col in include_properties if col != id_column]\n",
    "    df = df[properties].drop_duplicates()\n",
    "\n",
    "    # Create the \"properties\" by dropping the id column, then converting rows to dictionaries\n",
    "    property_records = df.drop(columns=[id_column]).to_dict(orient='records') if include_properties else [dict() for i in range(df.shape[0])]\n",
    "\n",
    "    # Combine \"id\" and \"properties\" into the desired format\n",
    "    return pd.DataFrame({\n",
    "        \"id\": df[id_column],\n",
    "        \"properties\": property_records\n",
    "    }).to_dict(orient='records')\n",
    "\n",
    "def csv_to_relationship_records(file_path:str, start_node_id:str, end_node_id:str, rel_key: Optional[str]=None, include_properties: Optional[List[str]]=None):\n",
    "    #read the csv\n",
    "    df = pd.read_csv(file_path)\n",
    "\n",
    "    #select relevant columns and drop duplicates\n",
    "    id_props = [start_node_id, end_node_id]\n",
    "    if rel_key:\n",
    "        id_props.append(rel_key)\n",
    "\n",
    "    properties = id_props.copy()\n",
    "    if include_properties:\n",
    "        properties = properties + [col for col in include_properties if col != start_node_id and col != end_node_id and col != rel_key]\n",
    "    df = df[properties].drop_duplicates()\n",
    "\n",
    "    # Create the \"properties\" by dropping the id columns, then converting rows to dictionaries\n",
    "    property_records = df.drop(columns=id_props).to_dict(orient='records') if include_properties else [dict() for i in range(df.shape[0])]\n",
    "\n",
    "    # Combine \"id\" and \"properties\" into the desired format\n",
    "    if rel_key is None:\n",
    "        res = pd.DataFrame({\n",
    "            \"start_node_id\": df[start_node_id],\n",
    "            \"end_node_id\": df[end_node_id],\n",
    "            \"properties\": property_records\n",
    "        }).to_dict(orient='records')\n",
    "    else:\n",
    "        res = pd.DataFrame({\n",
    "            \"start_node_id\": df[start_node_id],\n",
    "            \"end_node_id\": df[end_node_id],\n",
    "            \"rel_key\": df[rel_key],\n",
    "            \"properties\": property_records\n",
    "        }).to_dict(orient='records')\n",
    "    return res"
   ],
   "id": "bd39d81481c83bfb",
   "outputs": [],
   "execution_count": 8
  },
  {
   "metadata": {},
   "cell_type": "markdown",
   "source": "We can test on some examples",
   "id": "f8a08413b327c20f"
  },
  {
   "metadata": {
    "ExecuteTime": {
     "end_time": "2025-04-19T19:20:19.924702Z",
     "start_time": "2025-04-19T19:20:19.866924Z"
    }
   },
   "cell_type": "code",
   "source": [
    "import pandas as pd\n",
    "\n",
    "id_column = 'articleId'\n",
    "include_properties = ['graphicalAppearanceNo', 'graphicalAppearanceName', 'colourGroupCode', 'colourGroupName']\n",
    "\n",
    "article_node_records = csv_to_node_records('data/article.csv', id_column, include_properties)\n",
    "\n",
    "article_node_records[:3]\n"
   ],
   "id": "5baf6b882b2a1b54",
   "outputs": [
    {
     "data": {
      "text/plain": [
       "[{'id': 108775015,\n",
       "  'properties': {'graphicalAppearanceNo': 1010016,\n",
       "   'graphicalAppearanceName': 'Solid',\n",
       "   'colourGroupCode': 9,\n",
       "   'colourGroupName': 'Black'}},\n",
       " {'id': 108775044,\n",
       "  'properties': {'graphicalAppearanceNo': 1010016,\n",
       "   'graphicalAppearanceName': 'Solid',\n",
       "   'colourGroupCode': 10,\n",
       "   'colourGroupName': 'White'}},\n",
       " {'id': 110065001,\n",
       "  'properties': {'graphicalAppearanceNo': 1010016,\n",
       "   'graphicalAppearanceName': 'Solid',\n",
       "   'colourGroupCode': 9,\n",
       "   'colourGroupName': 'Black'}}]"
      ]
     },
     "execution_count": 9,
     "metadata": {},
     "output_type": "execute_result"
    }
   ],
   "execution_count": 9
  },
  {
   "metadata": {
    "ExecuteTime": {
     "end_time": "2025-04-19T19:20:20.003100Z",
     "start_time": "2025-04-19T19:20:19.927860Z"
    }
   },
   "cell_type": "code",
   "source": [
    "start_node_id = 'articleId'\n",
    "end_node_id = \"productCode\"\n",
    "article_variant_of_prod_records = csv_to_relationship_records('data/article.csv', start_node_id, end_node_id)\n",
    "\n",
    "article_variant_of_prod_records[:3]"
   ],
   "id": "8018af4d6ec0b516",
   "outputs": [
    {
     "data": {
      "text/plain": [
       "[{'start_node_id': 108775015, 'end_node_id': 108775, 'properties': {}},\n",
       " {'start_node_id': 108775044, 'end_node_id': 108775, 'properties': {}},\n",
       " {'start_node_id': 110065001, 'end_node_id': 110065, 'properties': {}}]"
      ]
     },
     "execution_count": 10,
     "metadata": {},
     "output_type": "execute_result"
    }
   ],
   "execution_count": 10
  },
  {
   "metadata": {},
   "cell_type": "markdown",
   "source": "Now lets crerate records for each node and relationship pattern",
   "id": "c87a1518129046d6"
  },
  {
   "metadata": {
    "ExecuteTime": {
     "end_time": "2025-04-19T19:20:20.095484Z",
     "start_time": "2025-04-19T19:20:20.008724Z"
    }
   },
   "cell_type": "code",
   "source": [
    "import json\n",
    "\n",
    "node_records = {}\n",
    "\n",
    "# Articles\n",
    "id_column = 'articleId'\n",
    "include_properties = ['graphicalAppearanceNo', 'graphicalAppearanceName', 'colourGroupCode', 'colourGroupName']\n",
    "node_records['Article'] = {\n",
    "        'idName':id_column,\n",
    "        'records': csv_to_node_records('data/article.csv', id_column, include_properties)\n",
    "}\n",
    "\n",
    "# Products\n",
    "id_column = 'productCode'\n",
    "include_properties = ['prodName','productTypeNo','productTypeName','productGroupName','garmentGroupNo','garmentGroupName','detailDesc']\n",
    "node_records['Product'] = {\n",
    "        'idName':id_column,\n",
    "        'records': csv_to_node_records('data/product.csv', id_column, include_properties)\n",
    "}\n",
    "\n",
    "# Departments\n",
    "id_column = 'departmentNo'\n",
    "include_properties = ['departmentName','sectionNo','sectionName']\n",
    "node_records['Department'] = {\n",
    "        'idName':id_column,\n",
    "        'records': csv_to_node_records('data/department.csv', id_column, include_properties)\n",
    "}\n",
    "\n",
    "# Customers\n",
    "id_column = 'customerId'\n",
    "include_properties = ['age', 'postalCode']\n",
    "node_records['Customer'] = {\n",
    "        'idName':id_column,\n",
    "        'records': csv_to_node_records('data/customer.csv', id_column, include_properties)\n",
    "}"
   ],
   "id": "ddc05a78895749e0",
   "outputs": [],
   "execution_count": 11
  },
  {
   "metadata": {
    "ExecuteTime": {
     "end_time": "2025-04-19T19:20:20.235077Z",
     "start_time": "2025-04-19T19:20:20.100339Z"
    }
   },
   "cell_type": "code",
   "source": [
    "relationship_records = {}\n",
    "\n",
    "# (Article)-[VARIANT_OF]->(Product)\n",
    "start_node_id = 'articleId'\n",
    "end_node_id = \"productCode\"\n",
    "relationship_records[('Article','VARIANT_OF', 'Product')] = {\n",
    "    'startNodeId':start_node_id,\n",
    "    'endNodeId':end_node_id,\n",
    "    'records': csv_to_relationship_records('data/article.csv', start_node_id, end_node_id)\n",
    "}\n",
    "\n",
    "# (Article)-[FROM_DEPARTMENT]->(Department)\n",
    "start_node_id = 'articleId'\n",
    "end_node_id = \"departmentNo\"\n",
    "relationship_records[('Article','FROM_DEPARTMENT', 'Department')] = {\n",
    "    'startNodeId':start_node_id,\n",
    "    'endNodeId':end_node_id,\n",
    "    'records': csv_to_relationship_records('data/article.csv', start_node_id, end_node_id)\n",
    "}\n",
    "\n",
    "# (Customer)-[PURCHASED]->(Article)\n",
    "# here we have parallel relationships and relationship properties\n",
    "start_node_id = 'customerId'\n",
    "end_node_id = 'articleId'\n",
    "rel_key = 'txId'\n",
    "include_properties = ['tDat', 'price', 'salesChannelId']\n",
    "relationship_records[('Customer','PURCHASED', 'Article')] = {\n",
    "    'startNodeId':start_node_id,\n",
    "    'endNodeId':end_node_id,\n",
    "    'relKey': rel_key,\n",
    "    'records': csv_to_relationship_records('data/transaction.csv', start_node_id, end_node_id, rel_key, include_properties)\n",
    "}"
   ],
   "id": "128d35c485543761",
   "outputs": [],
   "execution_count": 12
  },
  {
   "metadata": {
    "ExecuteTime": {
     "end_time": "2025-04-19T19:20:20.242488Z",
     "start_time": "2025-04-19T19:20:20.240692Z"
    }
   },
   "cell_type": "code",
   "source": "#relationship_records[('Customer','PURCHASED', 'Article')]",
   "id": "ee87eed2fc9dcc69",
   "outputs": [],
   "execution_count": 13
  },
  {
   "metadata": {},
   "cell_type": "markdown",
   "source": [
    "### Step 2: Creating Constraints (with Indexes)\n",
    "This will make for efficient `MATCH` and `MERGE` operations."
   ],
   "id": "f0c46a32d9d4f86e"
  },
  {
   "metadata": {
    "ExecuteTime": {
     "end_time": "2025-04-19T19:21:46.630597Z",
     "start_time": "2025-04-19T19:21:45.578397Z"
    }
   },
   "cell_type": "code",
   "source": [
    "# Create node key: https://neo4j.com/docs/cypher-manual/current/constraints/managing-constraints/#create-key-constraints\n",
    "# On Neo4j Community Edition you need to use uniqueness constraints instead: https://neo4j.com/docs/cypher-manual/current/constraints/managing-constraints/#create-property-uniqueness-constraints\n",
    "\n",
    "for label, data in node_records.items():\n",
    "    driver.execute_query(f\"CREATE CONSTRAINT IF NOT EXISTS FOR (n:{label}) REQUIRE (n.{data['idName']}) IS NODE KEY\")"
   ],
   "id": "a58325b8cbc55024",
   "outputs": [],
   "execution_count": 18
  },
  {
   "metadata": {},
   "cell_type": "markdown",
   "source": [
    "### Step 3: Chunking (A.K.A Batching)\n",
    "We create a few helper functions here to help us chunk records into batches and generate the query logic by node and relationship record group."
   ],
   "id": "9b15b2028070d4d3"
  },
  {
   "metadata": {
    "ExecuteTime": {
     "end_time": "2025-04-19T19:21:50.326057Z",
     "start_time": "2025-04-19T19:21:50.320978Z"
    }
   },
   "cell_type": "code",
   "source": [
    "# helper function for chunking list - takes a list and creates a list of chunks per specified\n",
    "def chunks(xs, n=1_000):\n",
    "    \"\"\"\n",
    "    Splits a list into smaller chunks of a given size.\n",
    "\n",
    "    This function takes a list `xs` and divides it into smaller list chunks, each\n",
    "    of size `n` (except possibly the last chunk, which may have fewer elements).\n",
    "    :param xs: The list to be split into smaller chunks.\n",
    "    :param n: The size of each chunk. Defaults to 1,000.\n",
    "    :return: A list of smaller list chunks, each containing `n` or fewer elements.\n",
    "    :rtype: list\n",
    "    \"\"\"\n",
    "    n = max(1, n)\n",
    "    return [xs[i:i + n] for i in range(0, len(xs), n)]\n",
    "\n",
    "\n",
    "def merge_nodes(label, id_name, records):\n",
    "    \"\"\"\n",
    "    Merges node records into a Neo4j graph database.\n",
    "    :param label: The label to assign to the node in the graph database.\n",
    "    :param id_name: The name of the unique identifier property for the node i.e. the node id\n",
    "    :param records: A list of node records to be merged into the graph database.\n",
    "    \"\"\"\n",
    "    query = f\"\"\"\n",
    "    UNWIND $records AS rec\n",
    "    MERGE(n:{label} {{{id_name}: rec.id}})\n",
    "    SET n += rec.properties\n",
    "    \"\"\"\n",
    "    for recs in chunks(records):\n",
    "        driver.execute_query(query, records=recs)\n",
    "\n",
    "class IncidentNode():\n",
    "    \"\"\"\n",
    "    Represents a start or end node for a relationship.\n",
    "    :ivar label: The label of the node.\n",
    "    :ivar idName: The unique identifier for the node  i.e. the node id\n",
    "    \"\"\"\n",
    "    label:str\n",
    "    idName:str\n",
    "    def __init__(self, label, id_name):\n",
    "        self.label = label\n",
    "        self.idName = id_name\n",
    "\n",
    "\n",
    "def merge_relationships(start_node:IncidentNode, end_node:IncidentNode, rel_type, records, rel_key=None):\n",
    "    \"\"\"\n",
    "    Generates a Cypher query string for creating or updating relationships between nodes in a Neo4j Database\n",
    "\n",
    "    :param start_node:IncidentNode The starting node of the relationship. It must include the node's label and\n",
    "        id name\n",
    "    :param end_node: IncidentNode The ending node of the relationship. It must include the node's label and\n",
    "        id name\n",
    "    :param rel_type:str The type of relationship to be created between the nodes.\n",
    "    :param records: A list of dictionaries containing the start node id, end node id, and relationship properties.\n",
    "    :param rel_key: Optional[str] The name of the relationship property to be used as a key for parallel relationships. Default is None\n",
    "    \"\"\"\n",
    "\n",
    "    if rel_key is None:\n",
    "        query = f\"\"\"\n",
    "        UNWIND $records AS rec\n",
    "        MERGE(n1:{start_node.label} {{{start_node.idName}: rec.start_node_id}})\n",
    "        MERGE(n2:{end_node.label} {{{end_node.idName}: rec.end_node_id}})\n",
    "        MERGE(n1)-[r:{rel_type}]->(n2)\n",
    "        SET r += rec.properties\n",
    "        \"\"\"\n",
    "    else:\n",
    "        query = f\"\"\"\n",
    "        UNWIND $records AS rec\n",
    "        MERGE(n1:{start_node.label} {{{start_node.idName}: rec.start_node_id}})\n",
    "        MERGE(n2:{end_node.label} {{{end_node.idName}: rec.end_node_id}})\n",
    "        MERGE(n1)-[r:{rel_type} {{{rel_key}: rec.rel_key}}]->(n2)\n",
    "        SET r += rec.properties\n",
    "        \"\"\"\n",
    "    for recs in chunks(records):\n",
    "        driver.execute_query(query, records=recs)\n",
    "\n"
   ],
   "id": "ee72fcba9aee59ad",
   "outputs": [],
   "execution_count": 19
  },
  {
   "metadata": {},
   "cell_type": "markdown",
   "source": [
    "### Now Lets Run The Optimized Code!\n",
    "You will note this runs in a matter of seconds"
   ],
   "id": "f46072841c40977d"
  },
  {
   "metadata": {
    "collapsed": true,
    "ExecuteTime": {
     "end_time": "2025-04-19T19:22:14.017797Z",
     "start_time": "2025-04-19T19:21:59.337421Z"
    }
   },
   "cell_type": "code",
   "source": [
    "# create nodes\n",
    "from tqdm import tqdm\n",
    "\n",
    "for label, data in tqdm(node_records.items(), desc=\"Merging Nodes\", unit=\"node\"):\n",
    "    merge_nodes(label, data['idName'], data['records'])\n",
    "\n",
    "for rel_pattern, data in tqdm(relationship_records.items(), desc=\"Merging Relationships\", unit=\"relationship\"):\n",
    "    start_node = IncidentNode(rel_pattern[0], data['startNodeId'])\n",
    "    end_node = IncidentNode(rel_pattern[2], data['endNodeId'])\n",
    "    merge_relationships(start_node,\n",
    "                        end_node,\n",
    "                        rel_pattern[1],\n",
    "                        data['records'],\n",
    "                        rel_key=data['relKey'] if 'relKey' in data else None)"
   ],
   "id": "initial_id",
   "outputs": [
    {
     "name": "stderr",
     "output_type": "stream",
     "text": [
      "Merging Nodes: 100%|██████████| 4/4 [00:04<00:00,  1.20s/node]\n",
      "Merging Relationships: 100%|██████████| 3/3 [00:09<00:00,  3.30s/relationship]\n"
     ]
    }
   ],
   "execution_count": 20
  },
  {
   "metadata": {},
   "cell_type": "markdown",
   "source": [
    "Once you have loaded you can navigate to the Neo4j Console to view the resulting graph\n",
    "\n",
    "![resulting graph](img/result.png)"
   ],
   "id": "e3873e74593ca2a9"
  },
  {
   "metadata": {},
   "cell_type": "markdown",
   "source": "## Cleanup",
   "id": "d7a5e9acada0b86"
  },
  {
   "metadata": {
    "ExecuteTime": {
     "end_time": "2025-04-19T19:22:34.702557Z",
     "start_time": "2025-04-19T19:22:33.309694Z"
    }
   },
   "cell_type": "code",
   "source": [
    "# remove all data\n",
    "delete_chunk_size = 500\n",
    "with driver.session() as session:\n",
    "    # Delete all nodes and relationships\n",
    "    session.run(f'''\n",
    "    MATCH (n)\n",
    "    CALL (n){{\n",
    "      DETACH DELETE n\n",
    "    }} IN TRANSACTIONS OF {delete_chunk_size} ROWS;\n",
    "    ''')\n",
    "# remove constraints\n",
    "driver.execute_query(\"CALL apoc.schema.assert({},{},true) YIELD label, key RETURN *\")"
   ],
   "id": "c3a4f54f2492738d",
   "outputs": [
    {
     "data": {
      "text/plain": [
       "EagerResult(records=[<Record key='articleId' label='Article'>, <Record key='productCode' label='Product'>, <Record key='departmentNo' label='Department'>, <Record key='customerId' label='Customer'>], summary=<neo4j._work.summary.ResultSummary object at 0x12aea87d0>, keys=['key', 'label'])"
      ]
     },
     "execution_count": 21,
     "metadata": {},
     "output_type": "execute_result"
    }
   ],
   "execution_count": 21
  },
  {
   "metadata": {
    "ExecuteTime": {
     "end_time": "2025-04-19T19:20:37.612922Z",
     "start_time": "2025-04-19T19:20:37.611196Z"
    }
   },
   "cell_type": "code",
   "source": "",
   "id": "f6b5610bd75f1ff9",
   "outputs": [],
   "execution_count": null
  },
  {
   "metadata": {
    "ExecuteTime": {
     "end_time": "2025-04-19T19:20:37.627043Z",
     "start_time": "2025-04-19T19:20:37.625293Z"
    }
   },
   "cell_type": "code",
   "source": "",
   "id": "b9ee2cdd818955a9",
   "outputs": [],
   "execution_count": null
  },
  {
   "metadata": {
    "ExecuteTime": {
     "end_time": "2025-04-19T19:20:37.649069Z",
     "start_time": "2025-04-19T19:20:37.647640Z"
    }
   },
   "cell_type": "code",
   "source": "",
   "id": "599a965206804741",
   "outputs": [],
   "execution_count": null
  },
  {
   "metadata": {
    "ExecuteTime": {
     "end_time": "2025-04-19T19:20:37.670047Z",
     "start_time": "2025-04-19T19:20:37.668601Z"
    }
   },
   "cell_type": "code",
   "source": "",
   "id": "913737e4f31d4dc4",
   "outputs": [],
   "execution_count": null
  },
  {
   "metadata": {
    "ExecuteTime": {
     "end_time": "2025-04-19T19:20:37.684949Z",
     "start_time": "2025-04-19T19:20:37.683282Z"
    }
   },
   "cell_type": "code",
   "source": "",
   "id": "7d23523505902ac3",
   "outputs": [],
   "execution_count": null
  },
  {
   "metadata": {
    "ExecuteTime": {
     "end_time": "2025-04-19T19:20:37.705133Z",
     "start_time": "2025-04-19T19:20:37.703550Z"
    }
   },
   "cell_type": "code",
   "source": "",
   "id": "6d34983b93f6d1db",
   "outputs": [],
   "execution_count": null
  },
  {
   "metadata": {
    "ExecuteTime": {
     "end_time": "2025-04-19T19:20:37.725600Z",
     "start_time": "2025-04-19T19:20:37.723786Z"
    }
   },
   "cell_type": "code",
   "source": "",
   "id": "4aa5d465edb7e97e",
   "outputs": [],
   "execution_count": null
  },
  {
   "metadata": {
    "ExecuteTime": {
     "end_time": "2025-04-19T19:20:37.748151Z",
     "start_time": "2025-04-19T19:20:37.746236Z"
    }
   },
   "cell_type": "code",
   "source": "",
   "id": "276b0b68dc9b0751",
   "outputs": [],
   "execution_count": null
  }
 ],
 "metadata": {
  "kernelspec": {
   "display_name": "Python 3",
   "language": "python",
   "name": "python3"
  },
  "language_info": {
   "codemirror_mode": {
    "name": "ipython",
    "version": 2
   },
   "file_extension": ".py",
   "mimetype": "text/x-python",
   "name": "python",
   "nbconvert_exporter": "python",
   "pygments_lexer": "ipython2",
   "version": "2.7.6"
  }
 },
 "nbformat": 4,
 "nbformat_minor": 5
}
